{
 "cells": [
  {
   "cell_type": "markdown",
   "id": "b500e3b2",
   "metadata": {},
   "source": [
    "# Entendimiento de datos"
   ]
  },
  {
   "cell_type": "code",
   "execution_count": 1,
   "id": "e37afd8d",
   "metadata": {},
   "outputs": [],
   "source": [
    "# Importaciones\n",
    "import pandas as pd\n",
    "import matplotlib.pyplot as plt\n",
    "import seaborn as sns\n",
    "import numpy as np\n",
    "from sklearn.model_selection import train_test_split"
   ]
  },
  {
   "cell_type": "markdown",
   "id": "1fe73aff",
   "metadata": {},
   "source": [
    "## 1. Utils"
   ]
  },
  {
   "cell_type": "code",
   "execution_count": 2,
   "id": "1a329f0d",
   "metadata": {},
   "outputs": [],
   "source": [
    "# Variables de configuración\n",
    "SEED = 9603\n",
    "\n",
    "MUESTRA = 0.125\n",
    "# 0.3678028341415188 / 500K\n",
    "# 0.1218641130361094 / 165K\n",
    "# 0.2907504151915929\n",
    "\n",
    "# Validación mediante K-Iteraciones\n",
    "# k = 10\n",
    "TEST_SIZE = 0.1\n",
    "\n",
    "files_paths = [\n",
    "  \"Monday-WorkingHours.csv\",\n",
    "  \"Tuesday-WorkingHours.csv\",\n",
    "  \"Wednesday-WorkingHours.csv\",\n",
    "  \"Thursday-WorkingHours.csv\",\n",
    "  \"Friday-WorkingHours.csv\",\n",
    "]\n",
    "\n",
    "selected_files_paths = [\n",
    "  # \"Monday-WorkingHours.csv\",\n",
    "  \"Tuesday-WorkingHours.csv\",\n",
    "  \"Wednesday-WorkingHours.csv\",\n",
    "  # \"Thursday-WorkingHours.csv\",\n",
    "  \"Friday-WorkingHours.csv\",\n",
    "]\n",
    "\n",
    "output_path = '../3_preparacion_de_datos/DB/dataset.csv'"
   ]
  },
  {
   "cell_type": "code",
   "execution_count": 3,
   "id": "b88a9a40",
   "metadata": {},
   "outputs": [],
   "source": [
    "# getFrequency(): Función para obtener la distribución de frecuencias de la columna label\n",
    "def getFrequency(df : pd.DataFrame, caracteristica) :\n",
    "  frecuencia = df[caracteristica].value_counts()\n",
    "  porcentaje = df[caracteristica].value_counts(normalize=True) * 100\n",
    "\n",
    "  tabla_frecuencia = pd.DataFrame({\n",
    "    \"Frecuencia\": frecuencia,\n",
    "    \"Frecuencia(%)\": porcentaje\n",
    "  })\n",
    "  \n",
    "  tabla_frecuencia[\"Frecuencia(%)\"].round(2)\n",
    "  \n",
    "  print(tabla_frecuencia)\n",
    "  print(df.shape)"
   ]
  },
  {
   "cell_type": "code",
   "execution_count": 4,
   "id": "72307bb9",
   "metadata": {},
   "outputs": [],
   "source": [
    "# generateCorrMatrix(): Función para generar matriz de correlación\n",
    "def generateCorrMatrix(data, save_path=\"\", title=\"Matriz de correlación\", method=\"pearson\", width=32, height=24, decimals=2, abs = False, save=True, aplicar_umbral=False, umbral=0.5) :\n",
    "  # Generación de matriz de correlación\n",
    "  matriz_correlacion = data.corr(method=method).round(decimals=decimals)\n",
    "\n",
    "  if abs :\n",
    "    matriz_correlacion = matriz_correlacion.abs()\n",
    "\n",
    "  if aplicar_umbral : \n",
    "    matriz_correlacion = matriz_correlacion.where(np.abs(matriz_correlacion) >= umbral, 0)\n",
    "\n",
    "  # Generación de mapa de calor para visualizar los datos\n",
    "  plt.figure(figsize=(width, height))\n",
    "\n",
    "  sns.heatmap(matriz_correlacion, annot=True, cmap='coolwarm', vmin=-1, vmax=1)\n",
    "  plt.title(title)\n",
    "  plt.tight_layout()\n",
    "  if save :\n",
    "    plt.savefig(save_path)\n",
    "  plt.show()\n",
    "  return matriz_correlacion"
   ]
  },
  {
   "cell_type": "markdown",
   "id": "8d39f98f",
   "metadata": {},
   "source": [
    "## 2. Carga de datos"
   ]
  },
  {
   "cell_type": "code",
   "execution_count": 5,
   "id": "e1bc6ab1",
   "metadata": {},
   "outputs": [
    {
     "name": "stdout",
     "output_type": "stream",
     "text": [
      "\n",
      "Lunes\n",
      "\n",
      "        Frecuencia  Frecuencia(%)\n",
      "Label                            \n",
      "BENIGN      371749          100.0\n",
      "(371749, 84)\n",
      "\n",
      "Martes\n",
      "\n",
      "                         Frecuencia  Frecuencia(%)\n",
      "Label                                             \n",
      "BENIGN                       315031      97.834803\n",
      "FTP-Patator                    3973       1.233839\n",
      "SSH-Patator                    2980       0.925457\n",
      "FTP-Patator - Attempted          11       0.003416\n",
      "SSH-Patator - Attempted           8       0.002484\n",
      "(322003, 84)\n",
      "\n",
      "Miércoles\n",
      "\n",
      "                              Frecuencia  Frecuencia(%)\n",
      "Label                                                  \n",
      "BENIGN                            319216      64.257145\n",
      "DoS Hulk                          158469      31.899295\n",
      "DoS GoldenEye                       7567       1.523213\n",
      "DoS slowloris                       4001       0.805388\n",
      "DoS Slowhttptest - Attempted        3369       0.678169\n",
      "DoS Slowhttptest                    1742       0.350659\n",
      "DoS slowloris - Attempted           1731       0.348445\n",
      "DoS Hulk - Attempted                 593       0.119369\n",
      "DoS GoldenEye - Attempted             80       0.016104\n",
      "Heartbleed                            11       0.002214\n",
      "(496779, 84)\n",
      "\n",
      "Jueves\n",
      "\n",
      "                                      Frecuencia  Frecuencia(%)\n",
      "Label                                                          \n",
      "BENIGN                                    360264      99.419375\n",
      "Web Attack - Brute Force - Attempted        1214       0.335019\n",
      "Web Attack - XSS - Attempted                 652       0.179928\n",
      "Web Attack - Brute Force                     151       0.041670\n",
      "Infiltration                                  32       0.008831\n",
      "Web Attack - XSS                              27       0.007451\n",
      "Infiltration - Attempted                      16       0.004415\n",
      "Web Attack - Sql Injection                    12       0.003312\n",
      "(362368, 84)\n",
      "\n",
      "Viernes\n",
      "\n",
      "                 Frecuencia  Frecuencia(%)\n",
      "Label                                     \n",
      "BENIGN               291433      53.189455\n",
      "PortScan             159151      29.046659\n",
      "DDoS                  95123      17.360905\n",
      "Bot - Attempted        1470       0.268290\n",
      "Bot                     738       0.134692\n",
      "(547915, 84)\n"
     ]
    }
   ],
   "source": [
    "# Existen ataques que tienen muy poca representación en la base de datos\n",
    "days = ['Lunes', 'Martes', 'Miércoles', 'Jueves', 'Viernes']\n",
    "for i in range(len(days)) : \n",
    "  df_per_day = pd.read_csv(f'DB/{files_paths[i]}')\n",
    "  print(f'\\n{days[i]}\\n')\n",
    "  getFrequency(df=df_per_day, caracteristica='Label')"
   ]
  },
  {
   "cell_type": "code",
   "execution_count": 6,
   "id": "600087f8",
   "metadata": {},
   "outputs": [
    {
     "name": "stdout",
     "output_type": "stream",
     "text": [
      "                              Frecuencia  Frecuencia(%)\n",
      "Label                                                  \n",
      "BENIGN                            925680      67.731180\n",
      "PortScan                          159151      11.644937\n",
      "DoS Hulk                          158469      11.595035\n",
      "DDoS                               95123       6.960065\n",
      "DoS GoldenEye                       7567       0.553671\n",
      "DoS slowloris                       4001       0.292750\n",
      "FTP-Patator                         3973       0.290701\n",
      "DoS Slowhttptest - Attempted        3369       0.246507\n",
      "SSH-Patator                         2980       0.218044\n",
      "DoS Slowhttptest                    1742       0.127461\n",
      "DoS slowloris - Attempted           1731       0.126656\n",
      "Bot - Attempted                     1470       0.107559\n",
      "Bot                                  738       0.053999\n",
      "DoS Hulk - Attempted                 593       0.043389\n",
      "DoS GoldenEye - Attempted             80       0.005854\n",
      "FTP-Patator - Attempted               11       0.000805\n",
      "Heartbleed                            11       0.000805\n",
      "SSH-Patator - Attempted                8       0.000585\n",
      "(1366697, 84)\n"
     ]
    }
   ],
   "source": [
    "# Se excluiran de la base de datos los días Lunes y Jueves\n",
    "# Lunes debido a que solo representan tráfico normal\n",
    "# Jueves debido a que hay ataques que no tienen suficiente representación \n",
    "df = pd.concat(\n",
    "  [pd.read_csv(f\"DB/{file_path}\") for file_path in selected_files_paths]\n",
    ")\n",
    "getFrequency(df=df, caracteristica=\"Label\")"
   ]
  },
  {
   "cell_type": "code",
   "execution_count": 7,
   "id": "4e479570",
   "metadata": {},
   "outputs": [
    {
     "name": "stdout",
     "output_type": "stream",
     "text": [
      "                  Frecuencia  Frecuencia(%)\n",
      "Label                                      \n",
      "BENIGN                925680      68.093546\n",
      "PortScan              159151      11.707238\n",
      "DoS Hulk              158469      11.657069\n",
      "DDoS                   95123       6.997302\n",
      "DoS GoldenEye           7567       0.556633\n",
      "DoS slowloris           4001       0.294316\n",
      "FTP-Patator             3973       0.292256\n",
      "SSH-Patator             2980       0.219210\n",
      "DoS Slowhttptest        1742       0.128143\n",
      "Bot                      738       0.054288\n",
      "(1359424, 84)\n"
     ]
    }
   ],
   "source": [
    "# Se eliminarán los ciberataques Infiltration y Heartbleed y registros con sufijo \"- Attempted\"\n",
    "# los ataques Infiltration y Heartbleed debido a que no tienen suficiente representación en la base de datos \n",
    "# y los ataques con sufijo \"- Attempted\" debido a que no representan ciberataques\n",
    "df = df[~df[\"Label\"].isin([\n",
    "  'DoS Slowhttptest - Attempted',\n",
    "  'DoS slowloris - Attempted',\n",
    "  'Bot - Attempted',\n",
    "  'DoS Hulk - Attempted',\n",
    "  'DoS GoldenEye - Attempted',\n",
    "  'Infiltration - Attempted',\n",
    "  'FTP-Patator - Attempted',\n",
    "  'SSH-Patator - Attempted',\n",
    "  'Infiltration',\n",
    "  'Heartbleed',\n",
    "])]\n",
    "getFrequency(df=df, caracteristica=\"Label\")"
   ]
  },
  {
   "cell_type": "markdown",
   "id": "fa688418",
   "metadata": {},
   "source": [
    "## 3. Descripción de datos"
   ]
  },
  {
   "cell_type": "code",
   "execution_count": 8,
   "id": "f4e99cd2",
   "metadata": {},
   "outputs": [
    {
     "name": "stdout",
     "output_type": "stream",
     "text": [
      "                  Frecuencia  Frecuencia(%)\n",
      "Label                                      \n",
      "BENIGN                115710      68.093546\n",
      "PortScan               19894      11.707311\n",
      "DoS Hulk               19809      11.657290\n",
      "DDoS                   11890       6.997081\n",
      "DoS GoldenEye            946       0.556706\n",
      "DoS slowloris            500       0.294242\n",
      "FTP-Patator              497       0.292477\n",
      "SSH-Patator              372       0.218916\n",
      "DoS Slowhttptest         218       0.128290\n",
      "Bot                       92       0.054141\n",
      "(169928, 84)\n"
     ]
    }
   ],
   "source": [
    "# Extracción de muestra para el proyecto\n",
    "df_vector, df_temp = train_test_split(\n",
    "  df, \n",
    "  stratify=df[\"Label\"], \n",
    "  test_size=1-MUESTRA, \n",
    "  random_state=SEED\n",
    ")\n",
    "getFrequency(df=df_vector, caracteristica=\"Label\")"
   ]
  },
  {
   "cell_type": "code",
   "execution_count": 9,
   "id": "19cc04bd",
   "metadata": {},
   "outputs": [
    {
     "name": "stdout",
     "output_type": "stream",
     "text": [
      "Muestra para el proyecto guardada en \"../3_preparacion_de_datos/DB/dataset.csv\"\n"
     ]
    }
   ],
   "source": [
    "# Guardando dataset\n",
    "df_vector.to_csv(output_path, index=False)\n",
    "print(f'Muestra para el proyecto guardada en \"{output_path}\"')"
   ]
  },
  {
   "cell_type": "markdown",
   "id": "49af6629",
   "metadata": {},
   "source": [
    "## 4. Exploración de datos"
   ]
  },
  {
   "cell_type": "code",
   "execution_count": 10,
   "id": "0fbe3f17",
   "metadata": {},
   "outputs": [
    {
     "name": "stdout",
     "output_type": "stream",
     "text": [
      "Flow ID                        object\n",
      "Src IP                         object\n",
      "Src Port                        int64\n",
      "Dst IP                         object\n",
      "Dst Port                        int64\n",
      "Protocol                        int64\n",
      "Timestamp                      object\n",
      "Flow Duration                   int64\n",
      "Total Fwd Packet                int64\n",
      "Total Bwd packets               int64\n",
      "Total Length of Fwd Packet    float64\n",
      "Total Length of Bwd Packet    float64\n",
      "Fwd Packet Length Max         float64\n",
      "Fwd Packet Length Min         float64\n",
      "Fwd Packet Length Mean        float64\n",
      "Fwd Packet Length Std         float64\n",
      "Bwd Packet Length Max         float64\n",
      "Bwd Packet Length Min         float64\n",
      "Bwd Packet Length Mean        float64\n",
      "Bwd Packet Length Std         float64\n",
      "Flow Bytes/s                  float64\n",
      "Flow Packets/s                float64\n",
      "Flow IAT Mean                 float64\n",
      "Flow IAT Std                  float64\n",
      "Flow IAT Max                  float64\n",
      "Flow IAT Min                  float64\n",
      "Fwd IAT Total                 float64\n",
      "Fwd IAT Mean                  float64\n",
      "Fwd IAT Std                   float64\n",
      "Fwd IAT Max                   float64\n",
      "Fwd IAT Min                   float64\n",
      "Bwd IAT Total                 float64\n",
      "Bwd IAT Mean                  float64\n",
      "Bwd IAT Std                   float64\n",
      "Bwd IAT Max                   float64\n",
      "Bwd IAT Min                   float64\n",
      "Fwd PSH Flags                   int64\n",
      "Bwd PSH Flags                   int64\n",
      "Fwd URG Flags                   int64\n",
      "Bwd URG Flags                   int64\n",
      "Fwd Header Length               int64\n",
      "Bwd Header Length               int64\n",
      "dtype: object\n",
      "Fwd Packets/s             float64\n",
      "Bwd Packets/s             float64\n",
      "Packet Length Min         float64\n",
      "Packet Length Max         float64\n",
      "Packet Length Mean        float64\n",
      "Packet Length Std         float64\n",
      "Packet Length Variance    float64\n",
      "FIN Flag Count              int64\n",
      "SYN Flag Count              int64\n",
      "RST Flag Count              int64\n",
      "PSH Flag Count              int64\n",
      "ACK Flag Count              int64\n",
      "URG Flag Count              int64\n",
      "CWR Flag Count              int64\n",
      "ECE Flag Count              int64\n",
      "Down/Up Ratio             float64\n",
      "Average Packet Size       float64\n",
      "Fwd Segment Size Avg      float64\n",
      "Bwd Segment Size Avg      float64\n",
      "Fwd Bytes/Bulk Avg          int64\n",
      "Fwd Packet/Bulk Avg         int64\n",
      "Fwd Bulk Rate Avg           int64\n",
      "Bwd Bytes/Bulk Avg          int64\n",
      "Bwd Packet/Bulk Avg         int64\n",
      "Bwd Bulk Rate Avg           int64\n",
      "Subflow Fwd Packets         int64\n",
      "Subflow Fwd Bytes           int64\n",
      "Subflow Bwd Packets         int64\n",
      "Subflow Bwd Bytes           int64\n",
      "FWD Init Win Bytes          int64\n",
      "Bwd Init Win Bytes          int64\n",
      "Fwd Act Data Pkts           int64\n",
      "Fwd Seg Size Min            int64\n",
      "Active Mean               float64\n",
      "Active Std                float64\n",
      "Active Max                float64\n",
      "Active Min                float64\n",
      "Idle Mean                 float64\n",
      "Idle Std                  float64\n",
      "Idle Max                  float64\n",
      "Idle Min                  float64\n",
      "Label                      object\n",
      "dtype: object\n"
     ]
    }
   ],
   "source": [
    "# Tipos de características en el conjunto de datos CICIDS2017(Actualización 2021)\n",
    "print(df_vector.dtypes.head(42))\n",
    "print(df_vector.dtypes.tail(42))"
   ]
  },
  {
   "cell_type": "markdown",
   "id": "4744ff98",
   "metadata": {},
   "source": [
    "## 5. Verificación de calidad de datos"
   ]
  },
  {
   "cell_type": "code",
   "execution_count": 11,
   "id": "c6a5224a",
   "metadata": {},
   "outputs": [
    {
     "data": {
      "text/plain": [
       "Flow Bytes/s     31\n",
       "Flow IAT Mean    13\n",
       "Flow IAT Std     13\n",
       "Flow IAT Max     13\n",
       "Flow IAT Min     13\n",
       "dtype: int64"
      ]
     },
     "execution_count": 11,
     "metadata": {},
     "output_type": "execute_result"
    }
   ],
   "source": [
    "# Visualización de valores nulos\n",
    "null_chars_list = df_vector.isna().sum()\n",
    "null_chars_list = null_chars_list[null_chars_list > 0]\n",
    "null_chars_list"
   ]
  },
  {
   "cell_type": "code",
   "execution_count": 12,
   "id": "9fdc3e7c",
   "metadata": {},
   "outputs": [
    {
     "data": {
      "text/plain": [
       "Flow Bytes/s      13\n",
       "Flow Packets/s    44\n",
       "dtype: int64"
      ]
     },
     "execution_count": 12,
     "metadata": {},
     "output_type": "execute_result"
    }
   ],
   "source": [
    "# Visualización de valores infinitos\n",
    "inf_chars_list = np.isinf(df_vector.select_dtypes(include=[np.float64, np.int64])).sum()\n",
    "inf_chars_list = inf_chars_list[inf_chars_list > 0]\n",
    "inf_chars_list"
   ]
  },
  {
   "cell_type": "code",
   "execution_count": 13,
   "id": "05065d48",
   "metadata": {},
   "outputs": [
    {
     "name": "stdout",
     "output_type": "stream",
     "text": [
      "total de características : 84\n",
      "['Flow ID', 'Src IP', 'Src Port', 'Dst IP', 'Dst Port', 'Protocol', 'Timestamp', 'Flow Duration', 'Total Fwd Packet', 'Total Bwd packets', 'Total Length of Fwd Packet', 'Total Length of Bwd Packet', 'Fwd Packet Length Max', 'Fwd Packet Length Min', 'Fwd Packet Length Mean', 'Fwd Packet Length Std', 'Bwd Packet Length Max', 'Bwd Packet Length Min', 'Bwd Packet Length Mean', 'Bwd Packet Length Std', 'Flow Bytes/s', 'Flow Packets/s', 'Flow IAT Mean', 'Flow IAT Std', 'Flow IAT Max', 'Flow IAT Min', 'Fwd IAT Total', 'Fwd IAT Mean', 'Fwd IAT Std', 'Fwd IAT Max', 'Fwd IAT Min', 'Bwd IAT Total', 'Bwd IAT Mean', 'Bwd IAT Std', 'Bwd IAT Max', 'Bwd IAT Min', 'Fwd PSH Flags', 'Bwd PSH Flags', 'Fwd URG Flags', 'Bwd URG Flags', 'Fwd Header Length', 'Bwd Header Length', 'Fwd Packets/s', 'Bwd Packets/s', 'Packet Length Min', 'Packet Length Max', 'Packet Length Mean', 'Packet Length Std', 'Packet Length Variance', 'FIN Flag Count', 'SYN Flag Count', 'RST Flag Count', 'PSH Flag Count', 'ACK Flag Count', 'URG Flag Count', 'CWR Flag Count', 'ECE Flag Count', 'Down/Up Ratio', 'Average Packet Size', 'Fwd Segment Size Avg', 'Bwd Segment Size Avg', 'Fwd Bytes/Bulk Avg', 'Fwd Packet/Bulk Avg', 'Fwd Bulk Rate Avg', 'Bwd Bytes/Bulk Avg', 'Bwd Packet/Bulk Avg', 'Bwd Bulk Rate Avg', 'Subflow Fwd Packets', 'Subflow Fwd Bytes', 'Subflow Bwd Packets', 'Subflow Bwd Bytes', 'FWD Init Win Bytes', 'Bwd Init Win Bytes', 'Fwd Act Data Pkts', 'Fwd Seg Size Min', 'Active Mean', 'Active Std', 'Active Max', 'Active Min', 'Idle Mean', 'Idle Std', 'Idle Max', 'Idle Min', 'Label']\n",
      "\n",
      "caracteristicas_numericas : 73\n",
      "['Flow Duration', 'Total Fwd Packet', 'Total Bwd packets', 'Total Length of Fwd Packet', 'Total Length of Bwd Packet', 'Fwd Packet Length Max', 'Fwd Packet Length Min', 'Fwd Packet Length Mean', 'Fwd Packet Length Std', 'Bwd Packet Length Max', 'Bwd Packet Length Min', 'Bwd Packet Length Mean', 'Bwd Packet Length Std', 'Flow Bytes/s', 'Flow Packets/s', 'Flow IAT Mean', 'Flow IAT Std', 'Flow IAT Max', 'Flow IAT Min', 'Fwd IAT Total', 'Fwd IAT Mean', 'Fwd IAT Std', 'Fwd IAT Max', 'Fwd IAT Min', 'Bwd IAT Total', 'Bwd IAT Mean', 'Bwd IAT Std', 'Bwd IAT Max', 'Bwd IAT Min', 'Fwd PSH Flags', 'Bwd PSH Flags', 'Fwd Header Length', 'Bwd Header Length', 'Fwd Packets/s', 'Bwd Packets/s', 'Packet Length Min', 'Packet Length Max', 'Packet Length Mean', 'Packet Length Std', 'Packet Length Variance', 'FIN Flag Count', 'SYN Flag Count', 'RST Flag Count', 'PSH Flag Count', 'ACK Flag Count', 'CWR Flag Count', 'ECE Flag Count', 'Down/Up Ratio', 'Average Packet Size', 'Fwd Segment Size Avg', 'Bwd Segment Size Avg', 'Fwd Bytes/Bulk Avg', 'Fwd Packet/Bulk Avg', 'Fwd Bulk Rate Avg', 'Bwd Bytes/Bulk Avg', 'Bwd Packet/Bulk Avg', 'Bwd Bulk Rate Avg', 'Subflow Fwd Packets', 'Subflow Fwd Bytes', 'Subflow Bwd Packets', 'Subflow Bwd Bytes', 'FWD Init Win Bytes', 'Bwd Init Win Bytes', 'Fwd Act Data Pkts', 'Fwd Seg Size Min', 'Active Mean', 'Active Std', 'Active Max', 'Active Min', 'Idle Mean', 'Idle Std', 'Idle Max', 'Idle Min']\n",
      "\n",
      "caracteristicas_var_null : 5\n",
      "['Flow Bytes/s', 'Flow IAT Mean', 'Flow IAT Std', 'Flow IAT Max', 'Flow IAT Min']\n",
      "\n",
      "caracteristicas_var_max_inf : 2\n",
      "['Flow Bytes/s', 'Flow Packets/s']\n",
      "\n",
      "caracteristicas_no_utiles : 8\n",
      "['Flow ID', 'Src IP', 'Src Port', 'Dst IP', 'Timestamp', 'Fwd URG Flags', 'Bwd URG Flags', 'URG Flag Count']\n",
      "\n",
      "caracteristicas_nominales : 2\n",
      "['Dst Port', 'Protocol']\n",
      "\n",
      "caracteristica_objetivo : 1\n",
      "['Label']\n"
     ]
    }
   ],
   "source": [
    "# Descripción de características\n",
    "\n",
    "# las características numéricas están relacionadas con características presentes en cada grupo\n",
    "caracteristicas_numericas = [\n",
    "  'Flow Duration', 'Total Fwd Packet', 'Total Bwd packets', \n",
    "  'Total Length of Fwd Packet', 'Total Length of Bwd Packet', \n",
    "  'Fwd Packet Length Max', 'Fwd Packet Length Min', \n",
    "  'Fwd Packet Length Mean', 'Fwd Packet Length Std', \n",
    "  'Bwd Packet Length Max', 'Bwd Packet Length Min', \n",
    "  'Bwd Packet Length Mean', 'Bwd Packet Length Std', \n",
    "  'Flow Bytes/s', 'Flow Packets/s',\n",
    "  'Flow IAT Mean', 'Flow IAT Std', 'Flow IAT Max', 'Flow IAT Min',\n",
    "  'Fwd IAT Total', 'Fwd IAT Mean', 'Fwd IAT Std', 'Fwd IAT Max',\n",
    "  'Fwd IAT Min', 'Bwd IAT Total', 'Bwd IAT Mean', 'Bwd IAT Std',\n",
    "  'Bwd IAT Max', 'Bwd IAT Min', 'Fwd PSH Flags', 'Bwd PSH Flags',\n",
    "  'Fwd Header Length',\n",
    "  'Bwd Header Length', 'Fwd Packets/s', 'Bwd Packets/s',\n",
    "  'Packet Length Min', 'Packet Length Max', 'Packet Length Mean',\n",
    "  'Packet Length Std', 'Packet Length Variance', 'FIN Flag Count',\n",
    "  'SYN Flag Count', 'RST Flag Count', 'PSH Flag Count', 'ACK Flag Count',\n",
    "  'CWR Flag Count', 'ECE Flag Count', 'Down/Up Ratio',\n",
    "  'Average Packet Size', 'Fwd Segment Size Avg', 'Bwd Segment Size Avg',\n",
    "  'Fwd Bytes/Bulk Avg', 'Fwd Packet/Bulk Avg', 'Fwd Bulk Rate Avg',\n",
    "  'Bwd Bytes/Bulk Avg', 'Bwd Packet/Bulk Avg', 'Bwd Bulk Rate Avg',\n",
    "  'Subflow Fwd Packets', 'Subflow Fwd Bytes', 'Subflow Bwd Packets',\n",
    "  'Subflow Bwd Bytes', 'FWD Init Win Bytes', 'Bwd Init Win Bytes',\n",
    "  'Fwd Act Data Pkts', 'Fwd Seg Size Min', 'Active Mean', 'Active Std',\n",
    "  'Active Max', 'Active Min', 'Idle Mean', 'Idle Std', 'Idle Max',\n",
    "  'Idle Min'\n",
    "]\n",
    "\n",
    "caracteristicas_var_null = ['Flow Bytes/s','Flow IAT Mean','Flow IAT Std','Flow IAT Max','Flow IAT Min']\n",
    "\n",
    "caracteristicas_var_max_inf = ['Flow Bytes/s', 'Flow Packets/s']\n",
    "\n",
    "# Características que no registraron información para análisis\n",
    "caracteristicas_no_utiles = [\n",
    "  'Flow ID', 'Src IP', 'Src Port', \n",
    "  'Dst IP', 'Timestamp', 'Fwd URG Flags', \n",
    "  'Bwd URG Flags', 'URG Flag Count'\n",
    "]\n",
    "\n",
    "caracteristicas_nominales = ['Dst Port', 'Protocol']\n",
    "\n",
    "caracteristica_objetivo = \"Label\"\n",
    "\n",
    "print(f'total de características : {len(df_vector.columns)}\\n{list(df_vector.columns)}\\n')\n",
    "\n",
    "print(f'caracteristicas_numericas : {len(caracteristicas_numericas)}\\n{caracteristicas_numericas}\\n')\n",
    "\n",
    "print(f'caracteristicas_var_null : {len(caracteristicas_var_null)}\\n{caracteristicas_var_null}\\n')\n",
    "\n",
    "print(f'caracteristicas_var_max_inf : {len(caracteristicas_var_max_inf)}\\n{caracteristicas_var_max_inf}\\n')\n",
    "\n",
    "print(f'caracteristicas_no_utiles : {len(caracteristicas_no_utiles)}\\n{caracteristicas_no_utiles}\\n')\n",
    "\n",
    "print(f'caracteristicas_nominales : {len(caracteristicas_nominales)}\\n{caracteristicas_nominales}\\n')\n",
    "\n",
    "print(f'caracteristica_objetivo : {len([caracteristica_objetivo])}\\n{[caracteristica_objetivo]}')\n"
   ]
  }
 ],
 "metadata": {
  "kernelspec": {
   "display_name": "IDS_Thesis",
   "language": "python",
   "name": "python3"
  },
  "language_info": {
   "codemirror_mode": {
    "name": "ipython",
    "version": 3
   },
   "file_extension": ".py",
   "mimetype": "text/x-python",
   "name": "python",
   "nbconvert_exporter": "python",
   "pygments_lexer": "ipython3",
   "version": "3.13.4"
  }
 },
 "nbformat": 4,
 "nbformat_minor": 5
}
