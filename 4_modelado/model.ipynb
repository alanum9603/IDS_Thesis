{
 "cells": [
  {
   "cell_type": "markdown",
   "id": "c9cde0b4",
   "metadata": {},
   "source": [
    "# Evaluación y crítica al modelo"
   ]
  },
  {
   "cell_type": "code",
   "execution_count": null,
   "id": "ceb2ea58",
   "metadata": {},
   "outputs": [],
   "source": [
    "# importaciones\n",
    "import pandas as pd\n",
    "import matplotlib.pyplot as plt\n",
    "import seaborn as sns\n",
    "import numpy as np\n",
    "from sklearn.preprocessing import MinMaxScaler\n",
    "from sklearn.decomposition import PCA\n",
    "from sklearn.base import BaseEstimator, TransformerMixin\n",
    "from sklearn.ensemble import RandomForestClassifier\n",
    "from factor_analyzer.factor_analyzer import calculate_kmo, calculate_bartlett_sphericity"
   ]
  },
  {
   "cell_type": "code",
   "execution_count": null,
   "id": "e4d48146",
   "metadata": {},
   "outputs": [],
   "source": [
    "dataset_path = \"DB/\"\n",
    "\n",
    "output_files_name = [\"X_train.csv\", \"y_train.csv\", \"X_test.csv\", \"y_test.csv\"]"
   ]
  },
  {
   "cell_type": "code",
   "execution_count": null,
   "id": "0a7ef9f1",
   "metadata": {},
   "outputs": [],
   "source": [
    "X_train = pd.read_csv(f\"{dataset_path}{output_files_name[0]}\")\n",
    "y_train = pd.read_csv(f\"{dataset_path}{output_files_name[1]}\")\n",
    "X_test  = pd.read_csv(f\"{dataset_path}{output_files_name[2]}\")\n",
    "y_test  = pd.read_csv(f\"{dataset_path}{output_files_name[3]}\")"
   ]
  }
 ],
 "metadata": {
  "kernelspec": {
   "display_name": "ids_thesis",
   "language": "python",
   "name": "python3"
  },
  "language_info": {
   "name": "python",
   "version": "3.12.9"
  }
 },
 "nbformat": 4,
 "nbformat_minor": 5
}
